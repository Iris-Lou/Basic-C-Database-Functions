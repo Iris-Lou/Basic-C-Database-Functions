{
  "nbformat": 4,
  "nbformat_minor": 0,
  "metadata": {
    "colab": {
      "name": "170_180.ipynb",
      "provenance": [],
      "collapsed_sections": [],
      "include_colab_link": true
    },
    "kernelspec": {
      "name": "python3",
      "display_name": "Python 3"
    }
  },
  "cells": [
    {
      "cell_type": "markdown",
      "metadata": {
        "id": "view-in-github",
        "colab_type": "text"
      },
      "source": [
        "<a href=\"https://colab.research.google.com/github/sysu18364065/Basic-C-Database-Functions/blob/master/170_180.ipynb\" target=\"_parent\"><img src=\"https://colab.research.google.com/assets/colab-badge.svg\" alt=\"Open In Colab\"/></a>"
      ]
    },
    {
      "cell_type": "code",
      "metadata": {
        "colab": {
          "base_uri": "https://localhost:8080/"
        },
        "id": "hyl60pQbOLq6",
        "outputId": "85b901ad-42b9-45d0-cca3-278717a2fadb"
      },
      "source": [
        "from geopy.geocoders import Nominatim\r\n",
        "import pandas as pd\r\n",
        "import math as m\r\n",
        "import time\r\n",
        "# 我这边的行列从0开始\r\n",
        "nrow = 572\r\n",
        "ncol = 830\r\n",
        "size = 1\r\n",
        "for r in range(170,180):\r\n",
        "  t = time.time()\r\n",
        "  geolocator = Nominatim()\r\n",
        "  f = open('lat&lon_%d.txt'%r,'w')\r\n",
        "  lat = -33.98-(r+0.5)*size/111\r\n",
        "  length = 111 * m.cos(m.radians(lat));\r\n",
        "  for c in range(ncol):\r\n",
        "    lon = (c+0.5)*size/length+140.96\r\n",
        "    try:\r\n",
        "      geolocator = Nominatim()\r\n",
        "      location = geolocator.reverse((lat, lon))\r\n",
        "      f.write(\"shell:%d,%d,lat&lon：%f,%f，add:%s\\n\"%(r,c,lat,lon,location.address))\r\n",
        "    except:\r\n",
        "      f.write(\"shell:%d,%d,lat&lon：%f,%f，add:%s\\n\"%(r,c,lat,lon,\"not found\"))\r\n",
        "  print(\"花费的时间：%d\"%(time.time()-t))\r\n",
        "  f.close()"
      ],
      "execution_count": null,
      "outputs": [
        {
          "output_type": "stream",
          "text": [
            "/usr/local/lib/python3.6/dist-packages/geopy/geocoders/osm.py:143: UserWarning: Using Nominatim with the default \"geopy/1.17.0\" `user_agent` is strongly discouraged, as it violates Nominatim's ToS https://operations.osmfoundation.org/policies/nominatim/ and may possibly cause 403 and 429 HTTP errors. Please specify a custom `user_agent` with `Nominatim(user_agent=\"my-application\")` or by overriding the default `user_agent`: `geopy.geocoders.options.default_user_agent = \"my-application\"`. In geopy 2.0 this will become an exception.\n",
            "  UserWarning\n"
          ],
          "name": "stderr"
        }
      ]
    }
  ]
}